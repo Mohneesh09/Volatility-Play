{
 "cells": [
  {
   "cell_type": "code",
   "execution_count": 1,
   "id": "a24d40cb",
   "metadata": {},
   "outputs": [
    {
     "name": "stdout",
     "output_type": "stream",
     "text": [
      "Requirement already satisfied: scipy in c:\\users\\91626\\anaconda3\\lib\\site-packages (1.7.1)Note: you may need to restart the kernel to use updated packages.\n",
      "Requirement already satisfied: numpy<1.23.0,>=1.16.5 in c:\\users\\91626\\anaconda3\\lib\\site-packages (from scipy) (1.21.3)\n",
      "\n"
     ]
    }
   ],
   "source": [
    "pip install scipy"
   ]
  },
  {
   "cell_type": "code",
   "execution_count": 24,
   "id": "f3ea241d",
   "metadata": {},
   "outputs": [],
   "source": [
    "from scipy.stats import norm\n",
    "import numpy as np\n",
    "import matplotlib.pyplot as plt"
   ]
  },
  {
   "cell_type": "code",
   "execution_count": 26,
   "id": "7f39fb2e",
   "metadata": {},
   "outputs": [],
   "source": [
    "def merton_jump_paths(S,T,r,sigma,lam,m,v,steps,Npaths):\n",
    "    store=[]\n",
    "    for i in range(1,20):\n",
    "        \n",
    "        size=(steps,Npaths)\n",
    "        dt= T/steps\n",
    "        poi_rv= np.multiply(np.random.poisson(lam*dt,size=size),np.random.normal(m,v,size=size)).cumsum(axis=0)\n",
    "        geo= np.cumsum(((r-sigma**2/2-lam*(m+v**2/2))*dt + sigma*np.sqrt(dt)*np.random.normal(size=size)),axis=0)\n",
    "    \n",
    "        store.append(np.exp(geo+poi_rv)*S)\n",
    "    return store"
   ]
  },
  {
   "cell_type": "code",
   "execution_count": 27,
   "id": "9074d6c3",
   "metadata": {},
   "outputs": [],
   "source": [
    "S = 100 # current stock price\n",
    "T = 1 # time to maturity\n",
    "r = 0.01 # risk free rate\n",
    "m = 0 # meean of jump size\n",
    "v = 0.3 # standard deviation of jump\n",
    "lam =1 # intensity of jump i.e. number of jumps per annum\n",
    "steps =250 # time steps\n",
    "Npaths = 1 # number of paths to simulate\n",
    "sigma = 0.2 # annaul standard deviation , for weiner process\n",
    "\n",
    "\n",
    "\n",
    "store = merton_jump_paths(S, T, r, sigma, lam, m, v, steps, Npaths)"
   ]
  },
  {
   "cell_type": "code",
   "execution_count": 40,
   "id": "20c8f694",
   "metadata": {},
   "outputs": [
    {
     "data": {
      "text/plain": [
       "numpy.ndarray"
      ]
     },
     "execution_count": 40,
     "metadata": {},
     "output_type": "execute_result"
    }
   ],
   "source": [
    "type(store[0])"
   ]
  },
  {
   "cell_type": "code",
   "execution_count": 32,
   "id": "4bee7467",
   "metadata": {},
   "outputs": [],
   "source": [
    "def merton_jump_paths(S, T, r, sigma,  lam, m, v, steps, Npaths):\n",
    "    size=(steps,Npaths)\n",
    "    dt = T/steps \n",
    "    poi_rv = np.multiply(np.random.poisson( lam*dt, size=size),\n",
    "                         np.random.normal(m,v, size=size)).cumsum(axis=0)\n",
    "    geo = np.cumsum(((r -  sigma**2/2 -lam*(m  + v**2*0.5))*dt +\\\n",
    "                              sigma*np.sqrt(dt) * \\\n",
    "                              np.random.normal(size=size)), axis=0)\n",
    "    \n",
    "    return np.exp(geo+poi_rv)*S\n",
    "\n"
   ]
  },
  {
   "cell_type": "code",
   "execution_count": 33,
   "id": "841a1610",
   "metadata": {},
   "outputs": [
    {
     "data": {
      "text/plain": [
       "250"
      ]
     },
     "execution_count": 33,
     "metadata": {},
     "output_type": "execute_result"
    }
   ],
   "source": [
    "len(j)"
   ]
  },
  {
   "cell_type": "code",
   "execution_count": 44,
   "id": "976c0dc3",
   "metadata": {},
   "outputs": [
    {
     "data": {
      "text/plain": [
       "Text(0.5, 1.0, 'Jump Diffusion Process')"
      ]
     },
     "execution_count": 44,
     "metadata": {},
     "output_type": "execute_result"
    },
    {
     "data": {
      "image/png": "[encoded data removed]",
      "text/plain": [
       "<Figure size 432x288 with 1 Axes>"
      ]
     },
     "metadata": {
      "needs_background": "light"
     },
     "output_type": "display_data"
    }
   ],
   "source": [
    "plt.plot(store[9])\n",
    "#plt.plot(merton_jump_paths(S, T, r, sigma, lam, m, v, steps, Npaths))\n",
    "plt.xlabel('Days')\n",
    "plt.ylabel('Stock Price')\n",
    "plt.title('Jump Diffusion Process')"
   ]
  },
  {
   "cell_type": "code",
   "execution_count": 49,
   "id": "b9421a82",
   "metadata": {},
   "outputs": [
    {
     "data": {
      "text/plain": [
       "array([[-0.0192146 ],\n",
       "       [-0.96877147],\n",
       "       [ 0.86228472],\n",
       "       [ 1.91936026],\n",
       "       [ 1.10503331]])"
      ]
     },
     "execution_count": 49,
     "metadata": {},
     "output_type": "execute_result"
    }
   ],
   "source": [
    "size=(5,1)\n",
    "np.random.normal(size=size)"
   ]
  },
  {
   "cell_type": "code",
   "execution_count": null,
   "id": "d8eae8a9",
   "metadata": {},
   "outputs": [],
   "source": [
    "#https://demonstrations.wolfram.com/OptionPricesInMertonsJumpDiffusionModel/\n",
    "#R. Merton, Continuous‐Time Finance, Oxford: Blackwell, 1998."
   ]
  },
  {
   "cell_type": "code",
   "execution_count": 53,
   "id": "da63eed4",
   "metadata": {},
   "outputs": [],
   "source": [
    "from scipy.stats import norm\n",
    "#from scipy import minimize_scaler\n",
    "from scipy.optimize import minimize\n",
    "N= norm.cdf"
   ]
  },
  {
   "cell_type": "code",
   "execution_count": 55,
   "id": "4a351c12",
   "metadata": {},
   "outputs": [],
   "source": [
    "def BS_call(S,K,T,r,sigma):\n",
    "    d1 = (np.log(S/K) + (r + sigma**2/2)*T)/(sigma*np.sqrt(T))\n",
    "    d2 = d1 - sigma*np.sqrt(T)\n",
    "    return S*N(d1)- K*np.exp(-r*T)*N(d2)\n",
    "\n",
    "def BS_put(S,K,T,r,sigma):\n",
    "    d1 = (np.log(S/K) + (r + sigma**2/2)*T)/(sigma*np.sqrt(T))\n",
    "    d2 = d1 - sigma*np.sqrt(T)\n",
    "    return K*np.exp(-r*T)*N(-d2) - S*N(-d1)"
   ]
  },
  {
   "cell_type": "code",
   "execution_count": 57,
   "id": "4c011296",
   "metadata": {},
   "outputs": [],
   "source": [
    "def MJ_call(S,K,T,r,sigma,m,v,lam):\n",
    "    price=0 ## price of option\n",
    "    for k in range(40):\n",
    "        r_k= r- lam*(m-1) + (k*np.log(m))/T\n",
    "        sigma_k= np.sqrt(sigma**2 + (k*v**2)/T)\n",
    "        k_fact= np.math.factorial(k)\n",
    "        price+= (np.exp(-m*lam*T) * (m*lam*T)**k / (k_fact))*BS_call(S, K, T, r_k, sigma_k)\n",
    "        \n",
    "    return price\n",
    "\n",
    "def MJ_put(S,K,T,r,sigma,m ,v,lam):\n",
    "    price = 0 \n",
    "    for k in range(40):\n",
    "        r_k = r - lam*(m-1) + (k*np.log(m) ) / T\n",
    "        sigma_k = np.sqrt( sigma**2 + (k* v** 2) / T)\n",
    "        k_fact = np.math.factorial(k) # \n",
    "        price += (np.exp(-m*lam*T) * (m*lam*T)**k / (k_fact))*BS_put(S, K, T, r_k, sigma_k)\n",
    "    return price"
   ]
  },
  {
   "cell_type": "code",
   "execution_count": 61,
   "id": "2037b856",
   "metadata": {},
   "outputs": [
    {
     "name": "stdout",
     "output_type": "stream",
     "text": [
      "Merton Price = 14.500570058304778\n",
      "Monte Carlo Merton Price = 14.597509592911369\n",
      "Black Scholes Price = 8.916037278572539\n"
     ]
    }
   ],
   "source": [
    "S = 100 # current stock price\n",
    "T = 1 # time to maturity\n",
    "r = 0.02 # risk free rate\n",
    "m = 0 # meean of jump size\n",
    "v = 0.3 # standard deviation of jump\n",
    "lam = 1 # intensity of jump i.e. number of jumps per annum\n",
    "steps =255 # time steps\n",
    "Npaths =200000 # number of paths to simulate\n",
    "sigma = 0.2 # annaul standard deviation , for weiner process\n",
    "K =100\n",
    "np.random.seed(3)\n",
    "j = merton_jump_paths(S, T, r, sigma, lam, m, v, steps, Npaths) #generate jump diffusion paths\n",
    "\n",
    "mcprice = np.maximum(j[-1]-K,0).mean() * np.exp(-r*T) # calculate value of call\n",
    "\n",
    "cf_price =  MJ_call(S, K, T, r, sigma, np.exp(m+v**2*0.5) , v, lam)\n",
    "\n",
    "print('Merton Price =', cf_price)\n",
    "print('Monte Carlo Merton Price =', mcprice)\n",
    "print('Black Scholes Price =', BS_CALL(S,K,T,r, sigma))"
   ]
  },
  {
   "cell_type": "code",
   "execution_count": 62,
   "id": "f8b2d559",
   "metadata": {},
   "outputs": [],
   "source": [
    "#we don't actually need to simulate paths for European options, and it would be much faster to just simulate the terminal prices, but perhaps having the code like this will be useful for future posts on pricing exotic options."
   ]
  },
  {
   "cell_type": "code",
   "execution_count": 64,
   "id": "0d3c2a3c",
   "metadata": {},
   "outputs": [],
   "source": [
    "#Volatility Smile paper result:\n",
    "\n",
    "S=100\n",
    "strikes= np.arange(50,150,1)\n",
    "r=0.02\n",
    "m=1\n",
    "v=0.3\n",
    "lam=1\n",
    "sigma= 0.2\n",
    "T=1\n",
    "\n",
    "mjd_prices= MJ_call(S,strikes,T,r,sigma,m,v,lam)"
   ]
  },
  {
   "cell_type": "markdown",
   "id": "3e743574",
   "metadata": {},
   "source": [
    "### Volatility in Detail"
   ]
  },
  {
   "cell_type": "code",
   "execution_count": 75,
   "id": "b7276543",
   "metadata": {},
   "outputs": [],
   "source": [
    "def BS(r,q,S,K,T,sigma,Type):\n",
    "    d1= (np.log(S/K)+(r+sigma**2/2)*T)/sigma*np.sqrt(T)\n",
    "    d2= d1 - sigma*np.sqrt(T)\n",
    "    if Type == 'C':\n",
    "        price= S*norm.cdf(d1,0,1)*np.exp(-q*T)- K*norm.cdf(d2,0,1)*np.exp(-r*T)\n",
    "    elif Type == 'P':\n",
    "        price= K*norm.cdf(-d2,0,1)*np.exp(-1*r*T) - S*norm.cdf(-d1,0,1)*np.exp(-q*T)\n",
    "    return price"
   ]
  },
  {
   "cell_type": "code",
   "execution_count": 83,
   "id": "ee777d6a",
   "metadata": {},
   "outputs": [
    {
     "name": "stdout",
     "output_type": "stream",
     "text": [
      "IV is:  0.5427999999999968\n"
     ]
    }
   ],
   "source": [
    "#Taking 40k possible volatility values\n",
    "vol_candidates= np.arange(start=0.01,stop=4,step=0.0001)\n",
    "price_diff= np.zeros_like(vol_candidates)  #same array as vol_Cand\n",
    "\n",
    "observed_price= 18\n",
    "S=100\n",
    "K= 115\n",
    "r=0.05\n",
    "q=0\n",
    "T=1\n",
    "'''\n",
    "for i in range(len(vol_candidates)):\n",
    "    \n",
    "    candidate = vol_candidates[i]\n",
    "    \n",
    "    price_diff[i]=  observed_price - BS(r,q, S, K, T, candidate,'C')\n",
    "'''\n",
    "price_dif=  observed_price - BS(r,q, S, K, T, vol_candidates,'C')\n",
    "idx= np.argmin(abs(price_dif))\n",
    "#idx= np.argmin(abs(price_diff))\n",
    "IV= vol_candidates[idx]\n",
    "print(\"IV is: \",IV)"
   ]
  },
  {
   "cell_type": "code",
   "execution_count": 85,
   "id": "dda56780",
   "metadata": {},
   "outputs": [
    {
     "name": "stdout",
     "output_type": "stream",
     "text": [
      "17.998310436548692\n"
     ]
    }
   ],
   "source": [
    "#Verifying\n",
    "price_ver= BS(r,q, S, K, T,IV,'C')\n",
    "print(price_ver)"
   ]
  },
  {
   "cell_type": "code",
   "execution_count": 86,
   "id": "8ef54b47",
   "metadata": {},
   "outputs": [],
   "source": [
    "#Newton Raphson Algo\n",
    "#More efficient than above\n",
    "\n",
    "#Require pde of B.S IV wrt sigma i.e vega\n",
    "N_prime = norm.pdf\n",
    "\n",
    "def vega(S, K, T, r, sigma):\n",
    "    d1 = (np.log(S / K) + (r + sigma**2/2)*T) / sigma*np.sqrt(T)\n",
    "    vega = S*np.sqrt(T)*N_prime(d1)\n",
    "    return vega\n",
    "    "
   ]
  },
  {
   "cell_type": "code",
   "execution_count": 87,
   "id": "076b7685",
   "metadata": {},
   "outputs": [],
   "source": [
    "#https://quant.stackexchange.com/questions/7761/a-simple-formula-for-calculating-implied-volatility?rq=1\n",
    "#paper by Brenner and Subrahmanyam (1988)\n",
    "#For best initial guess of sigma"
   ]
  },
  {
   "cell_type": "code",
   "execution_count": 88,
   "id": "ace406b6",
   "metadata": {},
   "outputs": [],
   "source": [
    "def IV_call(C, S, K, T, r, tol=0.0001,max_iter=100):\n",
    "    #C observed Call Price\n",
    "    sigma = 0.3   #initial guess\n",
    "    \n",
    "    for i in range(max_iter):\n",
    "        diff = BS(r,q, S, K, T, sigma,'C') - C\n",
    "        \n",
    "        if abs(diff) < tol:\n",
    "            print(f'found on {i}th iteration')\n",
    "            print(f'difference is equal to {diff}')\n",
    "            break\n",
    "\n",
    "        ### use newton rapshon to update the estimate\n",
    "        sigma = sigma - diff / vega(S, K, T, r, sigma)\n",
    "\n",
    "    return sigma"
   ]
  },
  {
   "cell_type": "code",
   "execution_count": 92,
   "id": "dba6f43e",
   "metadata": {},
   "outputs": [
    {
     "name": "stdout",
     "output_type": "stream",
     "text": [
      "found on 2th iteration\n",
      "difference is equal to -7.274655111189077e-06\n",
      "Implied volatility using Newton Rapshon is:  0.5428424065162358\n",
      "17.99999272534489\n"
     ]
    }
   ],
   "source": [
    "observed_price = 18\n",
    "S = 100\n",
    "K = 115\n",
    "T = 1\n",
    "r = 0.05\n",
    "\n",
    "imp_vol = IV_call(observed_price, S, K, T, r)\n",
    "print('Implied volatility using Newton Rapshon is: ',imp_vol)\n",
    "\n",
    "\n",
    "#Verifying\n",
    "price_veri= BS(r,q, S, K, T,imp_vol,'C')\n",
    "print(price_veri)\n",
    "#More precise and less time comp."
   ]
  },
  {
   "cell_type": "code",
   "execution_count": 94,
   "id": "e9aff103",
   "metadata": {},
   "outputs": [
    {
     "name": "stdout",
     "output_type": "stream",
     "text": [
      "found on 5th iteration\n",
      "difference is equal to 7.307406235668168e-09\n",
      "found on 4th iteration\n",
      "difference is equal to 4.347735342946635e-05\n",
      "found on 4th iteration\n",
      "difference is equal to 1.7704438192822636e-05\n",
      "found on 4th iteration\n",
      "difference is equal to 6.955724558110887e-06\n",
      "found on 4th iteration\n",
      "difference is equal to 2.6432221176264648e-06\n",
      "found on 4th iteration\n",
      "difference is equal to 9.735880581729361e-07\n",
      "found on 4th iteration\n",
      "difference is equal to 3.481939216953833e-07\n",
      "found on 4th iteration\n",
      "difference is equal to 1.2107961566698577e-07\n",
      "found on 4th iteration\n",
      "difference is equal to 4.0980971505177877e-08\n",
      "found on 4th iteration\n",
      "difference is equal to 1.3510913277059444e-08\n",
      "found on 4th iteration\n",
      "difference is equal to 4.341032422416902e-09\n",
      "found on 3th iteration\n",
      "difference is equal to 8.329066863410617e-05\n",
      "found on 3th iteration\n",
      "difference is equal to 4.8571282682985384e-05\n",
      "found on 3th iteration\n",
      "difference is equal to 2.7956168466403142e-05\n",
      "found on 3th iteration\n",
      "difference is equal to 1.5880032634640884e-05\n",
      "found on 3th iteration\n",
      "difference is equal to 8.900789417509714e-06\n",
      "found on 3th iteration\n",
      "difference is equal to 4.92158978460111e-06\n",
      "found on 3th iteration\n",
      "difference is equal to 2.683786291868273e-06\n",
      "found on 3th iteration\n",
      "difference is equal to 1.4427514472004077e-06\n",
      "found on 3th iteration\n",
      "difference is equal to 7.642583952360837e-07\n",
      "found on 3th iteration\n",
      "difference is equal to 3.987168852859213e-07\n",
      "found on 3th iteration\n",
      "difference is equal to 2.0473823525435364e-07\n",
      "found on 3th iteration\n",
      "difference is equal to 1.0340370693029399e-07\n",
      "found on 3th iteration\n",
      "difference is equal to 5.132423908094097e-08\n",
      "found on 3th iteration\n",
      "difference is equal to 2.5012063531448803e-08\n",
      "found on 3th iteration\n",
      "difference is equal to 1.1954856660167934e-08\n",
      "found on 3th iteration\n",
      "difference is equal to 5.597023289283243e-09\n",
      "found on 3th iteration\n",
      "difference is equal to 2.5629809385918634e-09\n",
      "found on 3th iteration\n",
      "difference is equal to 1.1459349025244592e-09\n",
      "found on 3th iteration\n",
      "difference is equal to 4.992415369997616e-10\n",
      "found on 2th iteration\n",
      "difference is equal to 9.474148071930699e-05\n",
      "found on 2th iteration\n",
      "difference is equal to 6.479930948799506e-05\n",
      "found on 2th iteration\n",
      "difference is equal to 4.365654307747491e-05\n",
      "found on 2th iteration\n",
      "difference is equal to 2.8920441764057614e-05\n",
      "found on 2th iteration\n",
      "difference is equal to 1.8796707127677337e-05\n",
      "found on 2th iteration\n",
      "difference is equal to 1.1953199081204957e-05\n",
      "found on 2th iteration\n",
      "difference is equal to 7.411299421278272e-06\n",
      "found on 2th iteration\n",
      "difference is equal to 4.460185031973651e-06\n",
      "found on 2th iteration\n",
      "difference is equal to 2.589856023860193e-06\n",
      "found on 2th iteration\n",
      "difference is equal to 1.4393386571498468e-06\n",
      "found on 2th iteration\n",
      "difference is equal to 7.570268572010264e-07\n",
      "found on 2th iteration\n",
      "difference is equal to 3.706261928471122e-07\n",
      "found on 2th iteration\n",
      "difference is equal to 1.6461055807326375e-07\n",
      "found on 2th iteration\n",
      "difference is equal to 6.349355174961602e-08\n",
      "found on 2th iteration\n",
      "difference is equal to 1.9551414709439996e-08\n",
      "found on 2th iteration\n",
      "difference is equal to 3.917719482160464e-09\n",
      "found on 2th iteration\n",
      "difference is equal to 2.041673496933072e-10\n",
      "found on 2th iteration\n",
      "difference is equal to -5.7340798775840085e-12\n",
      "found on 2th iteration\n",
      "difference is equal to -2.901519025044763e-10\n",
      "found on 2th iteration\n",
      "difference is equal to -1.524291803889355e-09\n",
      "found on 2th iteration\n",
      "difference is equal to -3.2977336417161496e-09\n",
      "found on 2th iteration\n",
      "difference is equal to -4.816525844830721e-09\n",
      "found on 2th iteration\n",
      "difference is equal to -5.4352398137780256e-09\n",
      "found on 2th iteration\n",
      "difference is equal to -4.9190607143145826e-09\n",
      "found on 2th iteration\n",
      "difference is equal to -3.5021798794332426e-09\n",
      "found on 2th iteration\n",
      "difference is equal to -1.7821442099830165e-09\n",
      "found on 2th iteration\n",
      "difference is equal to -4.703704092889893e-10\n",
      "found on 2th iteration\n",
      "difference is equal to -4.1247005810873816e-12\n",
      "found on 2th iteration\n",
      "difference is equal to -1.3272938303998671e-11\n",
      "found on 2th iteration\n",
      "difference is equal to 1.3729906100934386e-09\n",
      "found on 2th iteration\n",
      "difference is equal to 8.401372042499133e-09\n",
      "found on 2th iteration\n",
      "difference is equal to 2.87787500496961e-08\n",
      "found on 2th iteration\n",
      "difference is equal to 7.499506082808693e-08\n",
      "found on 2th iteration\n",
      "difference is equal to 1.6591814855360099e-07\n",
      "found on 2th iteration\n",
      "difference is equal to 3.28693998241647e-07\n",
      "found on 2th iteration\n",
      "difference is equal to 6.009863149358807e-07\n",
      "found on 2th iteration\n",
      "difference is equal to 1.0335885161083525e-06\n",
      "found on 2th iteration\n",
      "difference is equal to 1.6934390529854682e-06\n",
      "found on 2th iteration\n",
      "difference is equal to 2.667067665385048e-06\n",
      "found on 2th iteration\n",
      "difference is equal to 4.064496609501589e-06\n",
      "found on 2th iteration\n",
      "difference is equal to 6.023615394923354e-06\n",
      "found on 2th iteration\n",
      "difference is equal to 8.715041528439826e-06\n",
      "found on 2th iteration\n",
      "difference is equal to 1.2347473565377243e-05\n",
      "found on 2th iteration\n",
      "difference is equal to 1.7173534287984182e-05\n",
      "found on 2th iteration\n",
      "difference is equal to 2.3496094949670976e-05\n",
      "found on 2th iteration\n",
      "difference is equal to 3.1675061997304965e-05\n",
      "found on 2th iteration\n",
      "difference is equal to 4.213460004898195e-05\n",
      "found on 2th iteration\n",
      "difference is equal to 5.5370755482897493e-05\n",
      "found on 2th iteration\n",
      "difference is equal to 7.195943708193653e-05\n",
      "found on 2th iteration\n",
      "difference is equal to 9.25647019345277e-05\n",
      "found on 3th iteration\n",
      "difference is equal to 2.5507596035367897e-10\n",
      "found on 3th iteration\n",
      "difference is equal to 4.3661163573460726e-10\n",
      "found on 3th iteration\n",
      "difference is equal to 7.333831320011086e-10\n",
      "found on 3th iteration\n",
      "difference is equal to 1.210310962562744e-09\n",
      "found on 3th iteration\n",
      "difference is equal to 1.964627571737765e-09\n",
      "found on 3th iteration\n",
      "difference is equal to 3.139934534601707e-09\n",
      "found on 3th iteration\n",
      "difference is equal to 4.945421849811282e-09\n",
      "found on 3th iteration\n",
      "difference is equal to 7.682187330715351e-09\n",
      "found on 3th iteration\n",
      "difference is equal to 1.177843245159238e-08\n",
      "found on 3th iteration\n",
      "difference is equal to 1.783623204687501e-08\n",
      "found on 3th iteration\n",
      "difference is equal to 2.669314813630308e-08\n",
      "found on 3th iteration\n",
      "difference is equal to 3.950253990581132e-08\n",
      "found on 3th iteration\n",
      "difference is equal to 5.7836938793798254e-08\n",
      "found on 3th iteration\n",
      "difference is equal to 8.382060956435566e-08\n",
      "found on 3th iteration\n",
      "difference is equal to 1.2029744844710422e-07\n",
      "found on 3th iteration\n",
      "difference is equal to 1.710420085565545e-07\n",
      "found on 3th iteration\n",
      "difference is equal to 2.410231525473705e-07\n",
      "found on 3th iteration\n",
      "difference is equal to 3.3672987909127983e-07\n",
      "found on 3th iteration\n",
      "difference is equal to 4.665720991781086e-07\n",
      "found on 3th iteration\n",
      "difference is equal to 6.413694508822232e-07\n"
     ]
    }
   ],
   "source": [
    "S = 100\n",
    "strikes = np.arange(50,150,1)\n",
    "r = 0.02\n",
    "m = 1 \n",
    "v = 0.3 \n",
    "lam =1 \n",
    "sigma = 0.2 \n",
    "T= 1\n",
    "\n",
    "mjd_prices = MJ_call(S, strikes, T, r, sigma, m, v, lam)\n",
    "merton_ivs = [IV_call(c, S, k, T, r) for c,k in zip(mjd_prices, strikes)]"
   ]
  },
  {
   "cell_type": "code",
   "execution_count": 96,
   "id": "bd07a616",
   "metadata": {},
   "outputs": [
    {
     "data": {
      "text/plain": [
       "<matplotlib.legend.Legend at 0x151c7ca5640>"
      ]
     },
     "execution_count": 96,
     "metadata": {},
     "output_type": "execute_result"
    },
    {
     "data": {
      "image/png": "[encoded data removed]",
      "text/plain": [
       "<Figure size 432x288 with 1 Axes>"
      ]
     },
     "metadata": {
      "needs_background": "light"
     },
     "output_type": "display_data"
    }
   ],
   "source": [
    "plt.plot(strikes, merton_ivs, label='IV Smile')\n",
    "plt.xlabel('Strike')\n",
    "plt.ylabel('Implied Volatility')\n",
    "plt.axvline(S, color='black', linestyle='dashed', linewidth=2,label=\"Spot\")\n",
    "plt.title('MJD Volatility Smile')\n",
    "plt.grid(True)\n",
    "plt.legend()"
   ]
  },
  {
   "cell_type": "markdown",
   "id": "c9046cc6",
   "metadata": {},
   "source": [
    "### Optimal Parameter"
   ]
  },
  {
   "cell_type": "code",
   "execution_count": 98,
   "id": "e49a7152",
   "metadata": {},
   "outputs": [
    {
     "data": {
      "text/html": [
       "<div>\n",
       "<style scoped>\n",
       "    .dataframe tbody tr th:only-of-type {\n",
       "        vertical-align: middle;\n",
       "    }\n",
       "\n",
       "    .dataframe tbody tr th {\n",
       "        vertical-align: top;\n",
       "    }\n",
       "\n",
       "    .dataframe thead th {\n",
       "        text-align: right;\n",
       "    }\n",
       "</style>\n",
       "<table border=\"1\" class=\"dataframe\">\n",
       "  <thead>\n",
       "    <tr style=\"text-align: right;\">\n",
       "      <th></th>\n",
       "      <th>Strike</th>\n",
       "      <th>Moneyness</th>\n",
       "      <th>Bid</th>\n",
       "      <th>Midpoint</th>\n",
       "      <th>Ask</th>\n",
       "      <th>F</th>\n",
       "      <th>T</th>\n",
       "    </tr>\n",
       "  </thead>\n",
       "  <tbody>\n",
       "    <tr>\n",
       "      <th>0</th>\n",
       "      <td>900.0</td>\n",
       "      <td>0.76</td>\n",
       "      <td>2856.1</td>\n",
       "      <td>2867.55</td>\n",
       "      <td>2879.0</td>\n",
       "      <td>3803.79</td>\n",
       "      <td>0.74</td>\n",
       "    </tr>\n",
       "    <tr>\n",
       "      <th>1</th>\n",
       "      <td>1000.0</td>\n",
       "      <td>0.74</td>\n",
       "      <td>2757.0</td>\n",
       "      <td>2768.45</td>\n",
       "      <td>2779.9</td>\n",
       "      <td>3803.79</td>\n",
       "      <td>0.74</td>\n",
       "    </tr>\n",
       "    <tr>\n",
       "      <th>2</th>\n",
       "      <td>1100.0</td>\n",
       "      <td>0.71</td>\n",
       "      <td>2658.0</td>\n",
       "      <td>2669.45</td>\n",
       "      <td>2680.9</td>\n",
       "      <td>3803.79</td>\n",
       "      <td>0.74</td>\n",
       "    </tr>\n",
       "    <tr>\n",
       "      <th>3</th>\n",
       "      <td>1200.0</td>\n",
       "      <td>0.68</td>\n",
       "      <td>2559.1</td>\n",
       "      <td>2570.55</td>\n",
       "      <td>2582.0</td>\n",
       "      <td>3803.79</td>\n",
       "      <td>0.74</td>\n",
       "    </tr>\n",
       "    <tr>\n",
       "      <th>4</th>\n",
       "      <td>1300.0</td>\n",
       "      <td>0.66</td>\n",
       "      <td>2460.3</td>\n",
       "      <td>2471.75</td>\n",
       "      <td>2483.2</td>\n",
       "      <td>3803.79</td>\n",
       "      <td>0.74</td>\n",
       "    </tr>\n",
       "  </tbody>\n",
       "</table>\n",
       "</div>"
      ],
      "text/plain": [
       "   Strike  Moneyness     Bid  Midpoint     Ask        F     T\n",
       "0   900.0       0.76  2856.1   2867.55  2879.0  3803.79  0.74\n",
       "1  1000.0       0.74  2757.0   2768.45  2779.9  3803.79  0.74\n",
       "2  1100.0       0.71  2658.0   2669.45  2680.9  3803.79  0.74\n",
       "3  1200.0       0.68  2559.1   2570.55  2582.0  3803.79  0.74\n",
       "4  1300.0       0.66  2460.3   2471.75  2483.2  3803.79  0.74"
      ]
     },
     "execution_count": 98,
     "metadata": {},
     "output_type": "execute_result"
    }
   ],
   "source": [
    "import pandas as pd\n",
    "import time\n",
    "from scipy.optimize import minimize\n",
    "\n",
    "df = pd.read_csv('https://raw.githubusercontent.com/codearmo/data/master/calls_calib_example.csv')\n",
    "\n",
    "df.head()"
   ]
  },
  {
   "cell_type": "code",
   "execution_count": 104,
   "id": "47552f60",
   "metadata": {},
   "outputs": [
    {
     "data": {
      "text/plain": [
       "0.74"
      ]
     },
     "execution_count": 104,
     "metadata": {},
     "output_type": "execute_result"
    }
   ],
   "source": [
    "df['T'].values[0]"
   ]
  },
  {
   "cell_type": "code",
   "execution_count": 107,
   "id": "eb96d356",
   "metadata": {},
   "outputs": [],
   "source": [
    "def optimal_params(x,mkt_prices,strikes):\n",
    "    candidate_prices= MJ_call(S, strikes, T, r, sigma=x[0],m=x[1],v=x[2],lam=x[3])\n",
    "    return np.linalg.norm(mkt_prices-candidate_prices,2)"
   ]
  },
  {
   "cell_type": "code",
   "execution_count": 116,
   "id": "99c22aa7",
   "metadata": {},
   "outputs": [],
   "source": [
    "T= df['T'].values[0]\n",
    "S= df['F'].values[0]\n",
    "strikes= df['Strike'].values\n",
    "prices= df['Midpoint'].values\n",
    "r= 0\n",
    "\n",
    "x0= [0.15,1,0.1,1]    #initial guess\n",
    "bounds= ((0.01,np.inf),(0.01,2),(1e-5,np.inf),(0,5))  #bounds as discussed\n",
    "#SLSQP minimizes a function of several variables \n",
    "#with any combination of bounds, equality and inequality constraints\n",
    "res= minimize(fun=optimal_params,method='SLSQP',x0=x0,args=(prices,strikes),bounds=bounds,tol=1e-20,options={\"maxiter\":1000})\n",
    "\n",
    "calc_sigma= res.x[0]\n",
    "calc_mt= res.x[1]\n",
    "calc_vt= res.x[2]\n",
    "lamt= res.x[3]\n"
   ]
  },
  {
   "cell_type": "code",
   "execution_count": 117,
   "id": "c33e89c9",
   "metadata": {},
   "outputs": [
    {
     "name": "stdout",
     "output_type": "stream",
     "text": [
      "Calibrated Volatlity =  0.06489456681929835\n",
      "Calibrated Jump Mean =  0.878905460959084\n",
      "Calibrated Jump Std =  0.1542041677356296\n",
      "Calibrated intensity =  0.9722979865314584\n"
     ]
    }
   ],
   "source": [
    "print('Calibrated Volatlity = ', calc_sigma)\n",
    "print('Calibrated Jump Mean = ', calc_mt)\n",
    "print('Calibrated Jump Std = ', calc_vt)\n",
    "print('Calibrated intensity = ', lamt)\n"
   ]
  },
  {
   "cell_type": "code",
   "execution_count": 123,
   "id": "ec2b84f6",
   "metadata": {},
   "outputs": [
    {
     "data": {
      "text/plain": [
       "Text(0.5, 1.0, 'Merton Model Optimal Parameters')"
      ]
     },
     "execution_count": 123,
     "metadata": {},
     "output_type": "execute_result"
    },
    {
     "data": {
      "image/png": "[encoded data removed]",
      "text/plain": [
       "<Figure size 1080x504 with 1 Axes>"
      ]
     },
     "metadata": {
      "needs_background": "light"
     },
     "output_type": "display_data"
    }
   ],
   "source": [
    "df['least_sq_V'] = MJ_call(S, df.Strike, df['T'], 0 ,calc_sigma, calc_mt, calc_vt, lamt)\n",
    "plt.figure(figsize=(15,7))\n",
    "plt.scatter(df.Strike, df.Midpoint,color='red',label= 'Observed Prices')\n",
    "plt.plot(df.Strike, df.least_sq_V, color='black',label= 'Fitted Prices')\n",
    "plt.legend()\n",
    "plt.xlabel('Strike')\n",
    "plt.ylabel('Value in $')\n",
    "plt.title('Merton Model Optimal Parameters')\n",
    " #path dependent option"
   ]
  },
  {
   "cell_type": "code",
   "execution_count": null,
   "id": "db83a441",
   "metadata": {},
   "outputs": [],
   "source": []
  }
 ],
 "metadata": {
  "kernelspec": {
   "display_name": "Python 3 (ipykernel)",
   "language": "python",
   "name": "python3"
  },
  "language_info": {
   "codemirror_mode": {
    "name": "ipython",
    "version": 3
   },
   "file_extension": ".py",
   "mimetype": "text/x-python",
   "name": "python",
   "nbconvert_exporter": "python",
   "pygments_lexer": "ipython3",
   "version": "3.9.7"
  }
 },
 "nbformat": 4,
 "nbformat_minor": 5
}
